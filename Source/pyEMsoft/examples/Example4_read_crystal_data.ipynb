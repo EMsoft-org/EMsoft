{
 "cells": [
  {
   "cell_type": "code",
   "execution_count": 1,
   "metadata": {},
   "outputs": [],
   "source": [
    "import sys\n",
    "from EMsoft import pyEMsoft\n",
    "from EMsoft.pyEMsoftTools import Tools\n",
    "from EMsoft.pyEMsoftTools import ExtractData\n",
    "import numpy as np\n",
    "import h5py as h5\n",
    "import yaml\n",
    "import math"
   ]
  },
  {
   "cell_type": "code",
   "execution_count": 2,
   "metadata": {},
   "outputs": [
    {
     "name": "stdout",
     "output_type": "stream",
     "text": [
      "Atom 1:\n",
      "  Element: Ni\n",
      "  x: 0.0\n",
      "  y: 0.0\n",
      "  z: 0.0\n",
      "  Site occupation parameter: 1.0\n",
      "  Debye-Waller factor: 0.0035000001080334187\n",
      " \n",
      "\n",
      "Crystal System: Cubic\n",
      "Lattice Parameters:\n",
      "  a: 0.35236\n",
      "  b: 0.35236\n",
      "  c: 0.35236\n",
      "  alpha: 90.0\n",
      "  beta: 90.0\n",
      "  gamma: 90.0\n",
      "Point Group: 32\n",
      "Space Group Number:\n",
      "- 225\n",
      "Space Group Name: ' F m 3 m'\n",
      "Space Group Setting:\n",
      "- 1\n",
      " \n",
      "\n",
      "Creator: Chaoyi Zhu\n",
      "Creation Date: \"Aug 10 2019\\x14\\x01\"\n",
      "Program Name: EMmkxtal.f90\n",
      "Source: emsoft\n",
      " \n",
      "\n"
     ]
    }
   ],
   "source": [
    "# path of file\n",
    "path='/Users/chaoyizhu/Documents/EMsoftGeneratedData/XtalFolder/Ni.xtal'\n",
    "# read the hdf5 master pattern file \n",
    "hdfData = h5.File(path, 'r')\n",
    "# use the ExtractData class from the pyEMsoftTools to obtain crystal data, atom type info, and general information\n",
    "Crystal, Atom, Info=ExtractData(hdfData).crystal_data()\n",
    "# print out the dictionary data\n",
    "print(yaml.dump(Atom, default_flow_style=False, sort_keys=False),'\\n')\n",
    "print(yaml.dump(Crystal, default_flow_style=False, sort_keys=False),'\\n')\n",
    "print(yaml.dump(Info, default_flow_style=False, sort_keys=False),'\\n')\n"
   ]
  },
  {
   "cell_type": "code",
   "execution_count": 3,
   "metadata": {},
   "outputs": [],
   "source": [
    "# define the unitcell using typedefs to store crystallographic data\n",
    "LatCell = pyEMsoft.typedefs.unitcell()\n",
    "# file name of the crystal data file (in the XtalFolder)\n",
    "LatCell.fname = 'Ni.xtal'\n",
    "# verbose=True prints out crystal data in the terminal rather than underneath the cell\n",
    "pyEMsoft.hdfsupport.crystaldata(LatCell, verbose=True)"
   ]
  },
  {
   "cell_type": "code",
   "execution_count": 4,
   "metadata": {},
   "outputs": [
    {
     "name": "stdout",
     "output_type": "stream",
     "text": [
      "\n",
      "Crystal System: 1 \n",
      "\n",
      "Lattice Parameters:\n",
      "a= 0.3524 nm\n",
      "b= 0.3524 nm\n",
      "c= 0.3524 nm\n",
      " \n",
      "\n",
      "Angles:\n",
      "α= 90.0000°\n",
      "β= 90.0000°\n",
      "γ= 90.0000°\n",
      " \n",
      "\n",
      "Space Group Number: 225 \n",
      "\n",
      "Space Group Setting: 1 \n",
      "\n",
      "Number of Atom Types 1 \n",
      "\n",
      "Atom Type (atomic number): [28] \n",
      "\n",
      "Fractional coordiantes, Site occupation and Debye-Waller factor: \n",
      " [[0.     0.     0.     1.     0.0035]] \n",
      "\n",
      "File name: Ni.xtal                                                                                                                                                                                                                                                                                                                                                                                                                                                                                                                                                                                                                                                                                                                                                                                                                                                                                                                                                                                                                                                          \n",
      "\n",
      "Source of crystal data: emsoft                                                                                                                                                                                                                                                                                                                                                                                                                                                                                                                                                                                                                                                                                                                                                                                                                                                                                                                                                                                                                                                          \n"
     ]
    }
   ],
   "source": [
    "# let's  see what is in the LatCell class in the jupyter notebook\n",
    "# (these attributes can be accessed through e.g. LatCell.a for lattice parameter a)\n",
    "# print(dir(LatCell))\n",
    "# more examples in the Example1_make_crystal.py\n",
    "# print the unitcell containing crystallographic information\n",
    "print('\\nCrystal System:', LatCell.xtal_system,'\\n')\n",
    "print('Lattice Parameters:\\na= %.04f nm\\nb= %.04f nm\\nc= %.04f nm\\n' \n",
    "% (LatCell.a, LatCell.b, LatCell.c), '\\n')\n",
    "print('Angles:\\n\\u03B1= %.04f\\u00b0\\n\\u03B2= %.04f\\u00b0\\n\\u03B3= %.04f\\u00b0\\n' \n",
    "% (LatCell.alpha, LatCell.beta, LatCell.gamma),'\\n')\n",
    "print('Space Group Number:', LatCell.sym_sgnum, '\\n')\n",
    "print('Space Group Setting:', LatCell.sym_sgset, '\\n')\n",
    "print('Number of Atom Types', LatCell.atom_ntype, '\\n')\n",
    "print('Atom Type (atomic number):', LatCell.atom_type[0:LatCell.atom_ntype], '\\n')\n",
    "print('Fractional coordiantes, Site occupation and Debye-Waller factor: \\n', \n",
    "LatCell.atom_pos[0:LatCell.atom_ntype, 0:5], '\\n')\n",
    "print('File name:', LatCell.fname.decode('utf-8'), '\\n')\n",
    "print('Source of crystal data:', LatCell.source.decode('utf-8'))"
   ]
  },
  {
   "cell_type": "code",
   "execution_count": null,
   "metadata": {},
   "outputs": [],
   "source": []
  }
 ],
 "metadata": {
  "kernelspec": {
   "display_name": "Python 3",
   "language": "python",
   "name": "python3"
  },
  "language_info": {
   "codemirror_mode": {
    "name": "ipython",
    "version": 3
   },
   "file_extension": ".py",
   "mimetype": "text/x-python",
   "name": "python",
   "nbconvert_exporter": "python",
   "pygments_lexer": "ipython3",
   "version": "3.7.3"
  }
 },
 "nbformat": 4,
 "nbformat_minor": 2
}