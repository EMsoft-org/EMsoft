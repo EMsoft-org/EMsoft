{
 "cells": [
  {
   "cell_type": "code",
   "execution_count": 1,
   "metadata": {},
   "outputs": [],
   "source": [
    "import os\n",
    "from EMsoft import pyEMsoft\n",
    "from EMsoft import pyEMsoftTools\n",
    "import numpy as np\n",
    "import h5py as h5\n",
    "import matplotlib.pyplot as plt\n",
    "from ipywidgets import interact, interactive, fixed, interact_manual\n",
    "import ipywidgets as widgets\n",
    "import subprocess"
   ]
  },
  {
   "cell_type": "code",
   "execution_count": 2,
   "metadata": {},
   "outputs": [
    {
     "output_type": "stream",
     "name": "stdout",
     "text": [
      " Manufacturer\n Version\nScan 1\nScan 1/EBSD\nScan 1/EBSD/Data\nScan 1/EBSD/Data/CI\nScan 1/EBSD/Data/Fit\nScan 1/EBSD/Data/IQ\nScan 1/EBSD/Data/PRIAS Bottom Strip\nScan 1/EBSD/Data/PRIAS Center Square\nScan 1/EBSD/Data/PRIAS Top Strip\nScan 1/EBSD/Data/Pattern\nScan 1/EBSD/Data/Phase\nScan 1/EBSD/Data/Phi\nScan 1/EBSD/Data/Phi1\nScan 1/EBSD/Data/Phi2\nScan 1/EBSD/Data/SEM Signal\nScan 1/EBSD/Data/Valid\nScan 1/EBSD/Data/X Position\nScan 1/EBSD/Data/Y Position\nScan 1/EBSD/Header\nScan 1/EBSD/Header/Camera Azimuthal Angle\nScan 1/EBSD/Header/Camera Elevation Angle\nScan 1/EBSD/Header/Coordinate System\nScan 1/EBSD/Header/Coordinate System/EBSD View Reference Frame\nScan 1/EBSD/Header/Coordinate System/ID\nScan 1/EBSD/Header/Coordinate System/Schematic 1\nScan 1/EBSD/Header/Coordinate System/Schematic 2\nScan 1/EBSD/Header/Coordinate System/Schematic 3\nScan 1/EBSD/Header/Coordinate System/Schematic 4\nScan 1/EBSD/Header/Grid Type\nScan 1/EBSD/Header/Notes\nScan 1/EBSD/Header/Operator\nScan 1/EBSD/Header/Pattern Center Calibration\nScan 1/EBSD/Header/Pattern Center Calibration/x-star\nScan 1/EBSD/Header/Pattern Center Calibration/y-star\nScan 1/EBSD/Header/Pattern Center Calibration/z-star\nScan 1/EBSD/Header/Pattern Height\nScan 1/EBSD/Header/Pattern Width\nScan 1/EBSD/Header/Phase\nScan 1/EBSD/Header/Phase/1\nScan 1/EBSD/Header/Phase/1/Formula\nScan 1/EBSD/Header/Phase/1/Info\nScan 1/EBSD/Header/Phase/1/Lattice Constant a\nScan 1/EBSD/Header/Phase/1/Lattice Constant alpha\nScan 1/EBSD/Header/Phase/1/Lattice Constant b\nScan 1/EBSD/Header/Phase/1/Lattice Constant beta\nScan 1/EBSD/Header/Phase/1/Lattice Constant c\nScan 1/EBSD/Header/Phase/1/Lattice Constant gamma\nScan 1/EBSD/Header/Phase/1/Laue Group\nScan 1/EBSD/Header/Phase/1/MaterialName\nScan 1/EBSD/Header/Phase/1/NumberFamilies\nScan 1/EBSD/Header/Phase/1/Point Group\nScan 1/EBSD/Header/Phase/1/Symmetry\nScan 1/EBSD/Header/Phase/1/hkl Families\nScan 1/EBSD/Header/Sample ID\nScan 1/EBSD/Header/Sample Tilt\nScan 1/EBSD/Header/Scan ID\nScan 1/EBSD/Header/Step X\nScan 1/EBSD/Header/Step Y\nScan 1/EBSD/Header/Working Distance\nScan 1/EBSD/Header/nColumns\nScan 1/EBSD/Header/nRows\nScan 1/SEM-PRIAS Images\nScan 1/SEM-PRIAS Images/Data\nScan 1/SEM-PRIAS Images/Data/SEM Image\nScan 1/SEM-PRIAS Images/Header\nScan 1/SEM-PRIAS Images/Header/Image Count\nScan 1/SEM-PRIAS Images/Header/Image Size X\nScan 1/SEM-PRIAS Images/Header/Image Size Y\nScan 1/SEM-PRIAS Images/Header/Image X Max\nScan 1/SEM-PRIAS Images/Header/Image X Min\nScan 1/SEM-PRIAS Images/Header/Image X Scan Start\nScan 1/SEM-PRIAS Images/Header/Image Y Max\nScan 1/SEM-PRIAS Images/Header/Image Y Min\nScan 1/SEM-PRIAS Images/Header/Image Y Scan Start\nScan 1/SEM-PRIAS Images/Header/Mag\nScan 1/SEM-PRIAS Images/Header/PRIAS Display\nScan 1/SEM-PRIAS Images/Header/PRIAS Display/ABC Sigma\nScan 1/SEM-PRIAS Images/Header/PRIAS Display/Color Assignments\nScan 1/SEM-PRIAS Images/Header/PRIAS Display/Color Strength\nScan 1/SEM-PRIAS Images/Header/PRIAS Display/Display Mode\nScan 1/SEM-PRIAS Images/Header/PRIAS Display/Gray Assignments\nScan 1/SEM-PRIAS Images/Header/PRIAS Display/Gray Channel\nScan 1/SEM-PRIAS Images/Header/PRIAS Display/Pattern State\nScan 1/SEM-PRIAS Images/Header/PRIAS Display/Processing\nScan 1/SEM-PRIAS Images/Header/PRIAS Display/Smoothing\nScan 4\nScan 4/EBSD\nScan 4/EBSD/Data\nScan 4/EBSD/Data/CI\nScan 4/EBSD/Data/Fit\nScan 4/EBSD/Data/IQ\nScan 4/EBSD/Data/PRIAS Bottom Strip\nScan 4/EBSD/Data/PRIAS Center Square\nScan 4/EBSD/Data/PRIAS Top Strip\nScan 4/EBSD/Data/Pattern\nScan 4/EBSD/Data/Phase\nScan 4/EBSD/Data/Phi\nScan 4/EBSD/Data/Phi1\nScan 4/EBSD/Data/Phi2\nScan 4/EBSD/Data/SEM Signal\nScan 4/EBSD/Data/Valid\nScan 4/EBSD/Data/X Position\nScan 4/EBSD/Data/Y Position\nScan 4/EBSD/Header\nScan 4/EBSD/Header/Camera Azimuthal Angle\nScan 4/EBSD/Header/Camera Elevation Angle\nScan 4/EBSD/Header/Coordinate System\nScan 4/EBSD/Header/Coordinate System/EBSD View Reference Frame\nScan 4/EBSD/Header/Coordinate System/ID\nScan 4/EBSD/Header/Coordinate System/Schematic 1\nScan 4/EBSD/Header/Coordinate System/Schematic 2\nScan 4/EBSD/Header/Coordinate System/Schematic 3\nScan 4/EBSD/Header/Coordinate System/Schematic 4\nScan 4/EBSD/Header/Grid Type\nScan 4/EBSD/Header/Notes\nScan 4/EBSD/Header/Operator\nScan 4/EBSD/Header/Pattern Center Calibration\nScan 4/EBSD/Header/Pattern Center Calibration/x-star\nScan 4/EBSD/Header/Pattern Center Calibration/y-star\nScan 4/EBSD/Header/Pattern Center Calibration/z-star\nScan 4/EBSD/Header/Pattern Height\nScan 4/EBSD/Header/Pattern Width\nScan 4/EBSD/Header/Phase\nScan 4/EBSD/Header/Phase/1\nScan 4/EBSD/Header/Phase/1/Formula\nScan 4/EBSD/Header/Phase/1/Info\nScan 4/EBSD/Header/Phase/1/Lattice Constant a\nScan 4/EBSD/Header/Phase/1/Lattice Constant alpha\nScan 4/EBSD/Header/Phase/1/Lattice Constant b\nScan 4/EBSD/Header/Phase/1/Lattice Constant beta\nScan 4/EBSD/Header/Phase/1/Lattice Constant c\nScan 4/EBSD/Header/Phase/1/Lattice Constant gamma\nScan 4/EBSD/Header/Phase/1/Laue Group\nScan 4/EBSD/Header/Phase/1/MaterialName\nScan 4/EBSD/Header/Phase/1/NumberFamilies\nScan 4/EBSD/Header/Phase/1/Point Group\nScan 4/EBSD/Header/Phase/1/Symmetry\nScan 4/EBSD/Header/Phase/1/hkl Families\nScan 4/EBSD/Header/Sample ID\nScan 4/EBSD/Header/Sample Tilt\nScan 4/EBSD/Header/Scan ID\nScan 4/EBSD/Header/Step X\nScan 4/EBSD/Header/Step Y\nScan 4/EBSD/Header/Working Distance\nScan 4/EBSD/Header/nColumns\nScan 4/EBSD/Header/nRows\nScan 4/SEM-PRIAS Images\nScan 4/SEM-PRIAS Images/Data\nScan 4/SEM-PRIAS Images/Data/SEM Image\nScan 4/SEM-PRIAS Images/Header\nScan 4/SEM-PRIAS Images/Header/Image Count\nScan 4/SEM-PRIAS Images/Header/Image Size X\nScan 4/SEM-PRIAS Images/Header/Image Size Y\nScan 4/SEM-PRIAS Images/Header/Image X Max\nScan 4/SEM-PRIAS Images/Header/Image X Min\nScan 4/SEM-PRIAS Images/Header/Image X Scan Start\nScan 4/SEM-PRIAS Images/Header/Image Y Max\nScan 4/SEM-PRIAS Images/Header/Image Y Min\nScan 4/SEM-PRIAS Images/Header/Image Y Scan Start\nScan 4/SEM-PRIAS Images/Header/Mag\nScan 4/SEM-PRIAS Images/Header/PRIAS Display\nScan 4/SEM-PRIAS Images/Header/PRIAS Display/ABC Sigma\nScan 4/SEM-PRIAS Images/Header/PRIAS Display/Color Assignments\nScan 4/SEM-PRIAS Images/Header/PRIAS Display/Color Strength\nScan 4/SEM-PRIAS Images/Header/PRIAS Display/Display Mode\nScan 4/SEM-PRIAS Images/Header/PRIAS Display/Gray Assignments\nScan 4/SEM-PRIAS Images/Header/PRIAS Display/Gray Channel\nScan 4/SEM-PRIAS Images/Header/PRIAS Display/Pattern State\nScan 4/SEM-PRIAS Images/Header/PRIAS Display/Processing\nScan 4/SEM-PRIAS Images/Header/PRIAS Display/Smoothing\nScan 6\nScan 6/EBSD\nScan 6/EBSD/Data\nScan 6/EBSD/Data/CI\nScan 6/EBSD/Data/Fit\nScan 6/EBSD/Data/IQ\nScan 6/EBSD/Data/PRIAS Bottom Strip\nScan 6/EBSD/Data/PRIAS Center Square\nScan 6/EBSD/Data/PRIAS Top Strip\nScan 6/EBSD/Data/Pattern\nScan 6/EBSD/Data/Phase\nScan 6/EBSD/Data/Phi\nScan 6/EBSD/Data/Phi1\nScan 6/EBSD/Data/Phi2\nScan 6/EBSD/Data/SEM Signal\nScan 6/EBSD/Data/Valid\nScan 6/EBSD/Data/X Position\nScan 6/EBSD/Data/Y Position\nScan 6/EBSD/Header\nScan 6/EBSD/Header/Camera Azimuthal Angle\nScan 6/EBSD/Header/Camera Elevation Angle\nScan 6/EBSD/Header/Coordinate System\nScan 6/EBSD/Header/Coordinate System/EBSD View Reference Frame\nScan 6/EBSD/Header/Coordinate System/ID\nScan 6/EBSD/Header/Coordinate System/Schematic 1\nScan 6/EBSD/Header/Coordinate System/Schematic 2\nScan 6/EBSD/Header/Coordinate System/Schematic 3\nScan 6/EBSD/Header/Coordinate System/Schematic 4\nScan 6/EBSD/Header/Grid Type\nScan 6/EBSD/Header/Notes\nScan 6/EBSD/Header/Operator\nScan 6/EBSD/Header/Pattern Center Calibration\nScan 6/EBSD/Header/Pattern Center Calibration/x-star\nScan 6/EBSD/Header/Pattern Center Calibration/y-star\nScan 6/EBSD/Header/Pattern Center Calibration/z-star\nScan 6/EBSD/Header/Pattern Height\nScan 6/EBSD/Header/Pattern Width\nScan 6/EBSD/Header/Phase\nScan 6/EBSD/Header/Phase/1\nScan 6/EBSD/Header/Phase/1/Formula\nScan 6/EBSD/Header/Phase/1/Info\nScan 6/EBSD/Header/Phase/1/Lattice Constant a\nScan 6/EBSD/Header/Phase/1/Lattice Constant alpha\nScan 6/EBSD/Header/Phase/1/Lattice Constant b\nScan 6/EBSD/Header/Phase/1/Lattice Constant beta\nScan 6/EBSD/Header/Phase/1/Lattice Constant c\nScan 6/EBSD/Header/Phase/1/Lattice Constant gamma\nScan 6/EBSD/Header/Phase/1/Laue Group\nScan 6/EBSD/Header/Phase/1/MaterialName\nScan 6/EBSD/Header/Phase/1/NumberFamilies\nScan 6/EBSD/Header/Phase/1/Point Group\nScan 6/EBSD/Header/Phase/1/Symmetry\nScan 6/EBSD/Header/Phase/1/hkl Families\nScan 6/EBSD/Header/Sample ID\nScan 6/EBSD/Header/Sample Tilt\nScan 6/EBSD/Header/Scan ID\nScan 6/EBSD/Header/Step X\nScan 6/EBSD/Header/Step Y\nScan 6/EBSD/Header/Working Distance\nScan 6/EBSD/Header/nColumns\nScan 6/EBSD/Header/nRows\nScan 6/SEM-PRIAS Images\nScan 6/SEM-PRIAS Images/Data\nScan 6/SEM-PRIAS Images/Data/SEM Image\nScan 6/SEM-PRIAS Images/Header\nScan 6/SEM-PRIAS Images/Header/Image Count\nScan 6/SEM-PRIAS Images/Header/Image Size X\nScan 6/SEM-PRIAS Images/Header/Image Size Y\nScan 6/SEM-PRIAS Images/Header/Image X Max\nScan 6/SEM-PRIAS Images/Header/Image X Min\nScan 6/SEM-PRIAS Images/Header/Image X Scan Start\nScan 6/SEM-PRIAS Images/Header/Image Y Max\nScan 6/SEM-PRIAS Images/Header/Image Y Min\nScan 6/SEM-PRIAS Images/Header/Image Y Scan Start\nScan 6/SEM-PRIAS Images/Header/Mag\nScan 6/SEM-PRIAS Images/Header/PRIAS Display\nScan 6/SEM-PRIAS Images/Header/PRIAS Display/ABC Sigma\nScan 6/SEM-PRIAS Images/Header/PRIAS Display/Color Assignments\nScan 6/SEM-PRIAS Images/Header/PRIAS Display/Color Strength\nScan 6/SEM-PRIAS Images/Header/PRIAS Display/Display Mode\nScan 6/SEM-PRIAS Images/Header/PRIAS Display/Gray Assignments\nScan 6/SEM-PRIAS Images/Header/PRIAS Display/Gray Channel\nScan 6/SEM-PRIAS Images/Header/PRIAS Display/Pattern State\nScan 6/SEM-PRIAS Images/Header/PRIAS Display/Processing\nScan 6/SEM-PRIAS Images/Header/PRIAS Display/Smoothing\n"
     ]
    }
   ],
   "source": [
    "# path to the experimental data file\n",
    "path = '/home/chaoyi/EMsoftGeneratedData/EDAX-Ni.h5'\n",
    "\n",
    "# path for the output data, temporary Euler angle file, and master pattern\n",
    "emdatapath = '/home/chaoyi/EMsoftGeneratedData'\n",
    "\n",
    "# preview the data structure\n",
    "with h5.File(path,'r') as hf:\n",
    "    hf.visit(print)"
   ]
  },
  {
   "cell_type": "code",
   "execution_count": 3,
   "metadata": {},
   "outputs": [],
   "source": [
    "# which scan data to look at (name of the data set)\n",
    "data_set = 'Scan 1'\n",
    "# input experimental data type ('TSLHDF' or 'BrukerHDF')\n",
    "inputtype='TSLHDF'\n",
    "# load the experimental data set\n",
    "EBSD, Pattern, Angles = pyEMsoftTools.loadPattern(inputtype, data_set, path)\n",
    "# pattern quality map and scan coordinates\n",
    "PatternQuality, SEM = pyEMsoftTools.loadSEM(Pattern.inputtype, data_set, path)\n"
   ]
  },
  {
   "cell_type": "code",
   "execution_count": 4,
   "metadata": {},
   "outputs": [
    {
     "output_type": "display_data",
     "data": {
      "text/plain": "interactive(children=(IntSlider(value=0, description='scan_x', max=185), IntSlider(value=0, description='scan_…",
      "application/vnd.jupyter.widget-view+json": {
       "version_major": 2,
       "version_minor": 0,
       "model_id": "b264d2a126f9475fb7396e7671a117b4"
      }
     },
     "metadata": {}
    }
   ],
   "source": [
    "# Selection of the diffraction pattern to be optimized\n",
    "@interact(scan_x=widgets.IntSlider(min=0, max=Pattern.ipf_wd-1, step=1, value=0), scan_y=widgets.IntSlider(min=0, max=Pattern.ipf_ht-1, step=1, value=0))\n",
    "\n",
    "def g(scan_x, scan_y):\n",
    "    Pattern.patx = scan_x\n",
    "    Pattern.paty = scan_y\n",
    "\n",
    "    ExperimentalPattern = pyEMsoftTools.getSingleEBSDPattern(\n",
    "    data_set, EBSD, Pattern, path)\n",
    "\n",
    "    plt.subplot(1,2,1)\n",
    "    plt.imshow(PatternQuality,cmap='gray')\n",
    "    plt.scatter(scan_x,scan_y,s=15, marker='x', c='r')\n",
    "    plt.xlim(0, Pattern.ipf_wd)\n",
    "    plt.ylim(Pattern.ipf_ht, 0)\n",
    "\n",
    "    plt.subplot(1,2,2)\n",
    "    plt.imshow(ExperimentalPattern, cmap=\"gray\")\n",
    "    plt.title('Experimental Pattern')\n",
    "    plt.axis('off')\n",
    "    plt.show()"
   ]
  },
  {
   "cell_type": "code",
   "execution_count": 5,
   "metadata": {},
   "outputs": [],
   "source": [
    "# range of the kV to use (in the master pattern)\n",
    "EBSD.energymax = 20\n",
    "EBSD.energymin = 10\n",
    "EBSD.masterfile = 'Ni-master-20kV.h5'  # relative to EMdatapathname\n",
    "# EBSD.masterfile = 'Ferrite_master_20kV.h5'\n",
    "EBSD.includebackground = 'n'\n",
    "# intensity scaling mode 'not' = no scaling, 'lin' = linear, 'gam' = gamma correction\n",
    "EBSD.scalingmode = 'gam'\n",
    "# gamma correction factor\n",
    "EBSD.gammavalue = 0.33\n",
    "# Get the correpsonding experimental pattern at beam position (patx,paty)\n",
    "ExperimentalPattern = pyEMsoftTools.getSingleEBSDPattern(\n",
    "    data_set, EBSD, Pattern, path)\n",
    "# convert it to grayscale [0,255]\n",
    "ExperimentalPattern = pyEMsoftTools.getGrayscale(ExperimentalPattern)"
   ]
  },
  {
   "cell_type": "code",
   "execution_count": 6,
   "metadata": {},
   "outputs": [
    {
     "output_type": "display_data",
     "data": {
      "text/plain": "interactive(children=(Checkbox(value=True, description='mask'), IntSlider(value=10, description='nregions', ma…",
      "application/vnd.jupyter.widget-view+json": {
       "version_major": 2,
       "version_minor": 0,
       "model_id": "023da46c3b514ec8ab48be6c508ff6ca"
      }
     },
     "metadata": {}
    },
    {
     "output_type": "execute_result",
     "data": {
      "text/plain": [
       "<function __main__.f(mask, nregions)>"
      ]
     },
     "metadata": {},
     "execution_count": 6
    }
   ],
   "source": [
    "# Selection of the adaptive histogram equalization parameter (mask: optional)\n",
    "def f(mask, nregions):\n",
    "\n",
    "    Filtered_Exp = pyEMsoft.Filters.adhisteq(nregions, EBSD.numsy, EBSD.numsx, ExperimentalPattern)\n",
    "    EBSD.maskpattern='n'\n",
    "    if mask==True:\n",
    "        mask=pyEMsoftTools.circular_mask(EBSD.numsy,EBSD.numsx)\n",
    "        Filtered_Exp = np.multiply(mask,Filtered_Exp)\n",
    "        EBSD.maskpattern='y'\n",
    "\n",
    "\n",
    "    EBSD.nregions=nregions\n",
    "    plt.subplot(2,2,1)\n",
    "    plt.imshow(ExperimentalPattern, cmap=\"gray\")\n",
    "    plt.title('Experimental Pattern')\n",
    "    plt.axis('off')\n",
    "\n",
    "    plt.subplot(2,2,2)\n",
    "    plt.imshow(Filtered_Exp, cmap=\"gray\")\n",
    "    plt.title('Filtered Experimental Pattern')\n",
    "    plt.axis('off')\n",
    "\n",
    "    plt.subplot(2,2,(3,4))\n",
    "    plt.hist(ExperimentalPattern.flatten(), bins=180, label='Experimental')\n",
    "    plt.hist(Filtered_Exp[np.nonzero(Filtered_Exp)], bins=180, label='Filtered Experimental')\n",
    "    plt.legend(loc='upper right')\n",
    "    plt.ylabel('Counts')\n",
    "    plt.show()\n",
    "    \n",
    "\n",
    "interact(f, mask=True, nregions=widgets.IntSlider(min=1, max=15, step=1, value=10))"
   ]
  },
  {
   "cell_type": "code",
   "execution_count": 7,
   "metadata": {},
   "outputs": [],
   "source": [
    "# if this is 'n' no mask and adaptive histogram equalization will be used for experimental pattern\n",
    "EBSD.makedictionary = 'y'\n",
    "\n",
    "# binning is optional but will speed up optimization (not recommended for deformation inference)\n",
    "EBSD.binning = 1\n",
    "\n",
    "# Convert the Euler angles to a testeuler.txt file relative to EMdatapathname\n",
    "pyEMsoftTools.createAngleFile(emdatapath, 'eu', Pattern, Angles)\n",
    "\n",
    "# generate template file for EMEBSD and update the namelist\n",
    "pyEMsoftTools.EMEBSDnamelistUpdate(EBSD)\n",
    "os.system('EMEBSD EMEBSD.nml')\n",
    "\n",
    "# read simulated pattern from EMEBSD output data\n",
    "SimulatedPattern = pyEMsoftTools.getSingleEBSDPattern(\n",
    "    'EMData', EBSD, Pattern, emdatapath)\n",
    "\n",
    "# pattern center before optimization\n",
    "xpc = EBSD.xpc\n",
    "ypc = EBSD.ypc\n",
    "L = EBSD.L\n",
    "\n",
    "# orientation before optimization\n",
    "quaternion = Angles[:, Pattern.paty*Pattern.ipf_wd+Pattern.patx]"
   ]
  },
  {
   "cell_type": "code",
   "execution_count": 8,
   "metadata": {},
   "outputs": [
    {
     "name": "stdout",
     "output_type": "stream",
     "text": [
      "\n",
      "\n",
      " Copyright (C) 2001-2019 Marc De Graef Research Group/CMU\n",
      " EMsoft comes with ABSOLUTELY NO WARRANTY.\n",
      " This is free software, and you are welcome to redistribute it\n",
      " under certain conditions; see License.txt file for details.\n",
      "\n",
      "\n",
      " Program name         : EMEBSDGlobalOpt.f90\n",
      " Purpose              : Global Optimization for Pattern Center, Orientation, and Deformation using Dynamical EBSD patterns\n",
      " Platform             : Linux\n",
      " Source code version  : 5_0_20201129_be3b01a\n",
      " Source code Revision : be3b01a\n",
      " Build Date/Time      : 2020-11-30 02:05:50Z\n",
      "\n",
      " See https://github.com/EMsoft-org/EMsoft/wiki for selected help pages.\n",
      "\n",
      " Dec 12 2020  11:25:11.827 PM\n",
      "\n",
      "\n",
      "Number of command line arguments detected:           1\n",
      "Pattern input file /home/chaoyi/EMsoftGeneratedData/EDAX-Ni.h5\n",
      "  input file type TSLHDF\n",
      "Euler angle convention: tsl\n",
      " Converting Euler angles to quaternions\n",
      " Number of orientations imported:       28086\n",
      " Tilt angle of the camera:   10.0000000    \n",
      " Camera Azimuthal Angle:   0.00000000    \n",
      "Pattern center convention: tsl\n",
      " Pattern Center Information:\n",
      " PCx:  0.507261932    \n",
      " PCy:  0.737923861    \n",
      " Detector Distance:  0.558488667    \n",
      " # Maximum number of threads          12\n",
      " # Setting number of threads to           4\n",
      " Optimization for the pattern x=           0 y=           0\n",
      "\n",
      " # Iteration:          10 : Objective function value: -0.907066226    \n",
      " # Best Member:  0.522439480      0.733271420      0.561611474       1.12280203E-03   1.92350172E-03   3.06955213E-03\n",
      "\n",
      " # Iteration:          20 : Objective function value: -0.907359779    \n",
      " # Best Member:  0.520079136      0.735271275      0.558868527       1.19504449E-03   2.34520203E-03   1.46039459E-03\n",
      "\n",
      " # Iteration:          30 : Objective function value: -0.908720911    \n",
      " # Best Member:  0.518620372      0.732170463      0.560210466       1.10387977E-03   1.23477716E-03   2.35900539E-03\n",
      "\n",
      " # Iteration:          40 : Objective function value: -0.909427524    \n",
      " # Best Member:  0.519018829      0.730290294      0.560006618       7.95772241E-04   1.12896739E-03   2.57693836E-03\n",
      "\n",
      " # Iteration:          50 : Objective function value: -0.909683585    \n",
      " # Best Member:  0.519069672      0.729067922      0.561313927       6.34982018E-04   5.60630346E-04   2.92759878E-03\n",
      "\n"
     ]
    }
   ],
   "source": [
    "# a Namelist class containing optimization parameters\n",
    "Opt = pyEMsoft.Namelisttypedefs.EBSDDENameListType\n",
    "# Deformation tensor inference (if 'y', the orientation optimization will be swithced off)\n",
    "EBSD.applyDeformation = 'n'\n",
    "# bounds for variables to be optimized\n",
    "# [deformation tensor, mis [degree], normalized PC [% detector width]]\n",
    "Opt.bound = [0.001, 2, 2]\n",
    "# maximum number of iterations [50,100]\n",
    "Opt.itermax = 50\n",
    "# refresh frequency\n",
    "Opt.refresh = 10\n",
    "# population size (10*number of variables)\n",
    "Opt.NP = 60\n",
    "# Nelder-Mead simplex refinement after the global optimization  (optional)\n",
    "Opt.hybrid='n'\n",
    "# number of threads ued for optimization (openmp)\n",
    "EBSD.nthreads = 4\n",
    "# file name of the optimization output data\n",
    "EBSD.datafile='global optimization data.h5'\n",
    "# generate template file for EMEBSDGlobalOpt and update the namelist\n",
    "pyEMsoftTools.EMEBSDGlobalOptimizationUpdate(data_set, Opt, EBSD, Pattern)\n",
    "# print the optimization results \n",
    "output = subprocess.check_output(['EMEBSDGlobalOpt', 'EMEBSDGlobalOpt.nml'])\n",
    "output = output.decode(\"utf-8\")\n",
    "print(output)"
   ]
  },
  {
   "cell_type": "code",
   "execution_count": 9,
   "metadata": {},
   "outputs": [
    {
     "name": "stdout",
     "output_type": "stream",
     "text": [
      "Before Optimization: xpc=-0.44, ypc=14.28,L=1983.75\n",
      "After Optimization: xpc=-1.14, ypc=13.74,L=1993.79\n"
     ]
    }
   ],
   "source": [
    "\n",
    "EBSD_Opt, Angles_Opt, Ftensor = pyEMsoftTools.loadOptimizationData(\n",
    "    emdatapath, Pattern.inputtype, EBSD, Opt)\n",
    "\n",
    "# pattern center after optimization\n",
    "xpc_opt = EBSD_Opt.xpc\n",
    "ypc_opt = EBSD_Opt.ypc\n",
    "L_opt = EBSD_Opt.L\n",
    "\n",
    "pyEMsoftTools.createAngleFile(emdatapath, 'eu', Pattern, Angles_Opt)\n",
    "\n",
    "pyEMsoftTools.EMEBSDnamelistUpdate(EBSD_Opt)\n",
    "\n",
    "os.system('EMEBSD EMEBSD.nml')\n",
    "SimulatedPattern_Opt = pyEMsoftTools.getSingleEBSDPattern(\n",
    "    'EMData', EBSD_Opt, Pattern, emdatapath)\n",
    "\n",
    "print('Before Optimization: xpc=%.2f, ypc=%.2f,L=%.2f' % (xpc, ypc, L))\n",
    "print('After Optimization: xpc=%.2f, ypc=%.2f,L=%.2f' % (xpc_opt, ypc_opt, L_opt))\n",
    "\n",
    "\n"
   ]
  },
  {
   "cell_type": "code",
   "execution_count": 10,
   "metadata": {},
   "outputs": [
    {
     "data": {
      "image/png": "[encoded data removed]",
      "text/plain": [
       "<Figure size 432x288 with 4 Axes>"
      ]
     },
     "metadata": {
      "needs_background": "light"
     },
     "output_type": "display_data"
    }
   ],
   "source": [
    "Filtered_Exp = pyEMsoft.Filters.adhisteq(\n",
    "   EBSD.nregions, EBSD.numsy, EBSD.numsx, ExperimentalPattern)\n",
    "\n",
    "if EBSD.maskpattern=='y':\n",
    "    mask=pyEMsoftTools.circular_mask(EBSD.numsy,EBSD.numsx)\n",
    "    Filtered_Exp = np.multiply(mask,Filtered_Exp)\n",
    "\n",
    "plt.rcParams['font.size'] = 8\n",
    "\n",
    "fig = plt.figure()\n",
    "plt.subplot(2, 2, 1)\n",
    "plt.imshow(ExperimentalPattern, cmap=\"gray\")\n",
    "plt.scatter(EBSD.numsx/2.0-xpc, EBSD.numsy /\n",
    "            2.0-ypc, s=15, marker='x', c='b')\n",
    "plt.title('Experimental Pattern')\n",
    "plt.axis('off')\n",
    "\n",
    "plt.subplot(2, 2, 2)\n",
    "plt.imshow(Filtered_Exp, cmap=\"gray\")\n",
    "plt.scatter(EBSD.numsx/2.0-xpc, EBSD.numsy /\n",
    "            2.0-ypc, s=15, marker='x', c='b')\n",
    "plt.title('Filtered Experimental Pattern')\n",
    "plt.axis('off')\n",
    "\n",
    "plt.subplot(2, 2, 3)\n",
    "plt.imshow(SimulatedPattern, cmap=\"gray\")\n",
    "plt.scatter(EBSD.numsx/2.0-xpc, EBSD.numsy /\n",
    "            2.0-ypc, s=15, marker='x', c='b')\n",
    "plt.title('Simulated Pattern')\n",
    "plt.axis('off')\n",
    "\n",
    "plt.subplot(2, 2, 4)\n",
    "plt.imshow(SimulatedPattern_Opt, cmap=\"gray\")\n",
    "plt.scatter(EBSD.numsx/2.0-xpc, EBSD.numsy /\n",
    "            2.0-ypc, s=15, marker='x', c='b')\n",
    "plt.scatter(EBSD.numsx/2.0-xpc_opt, EBSD.numsy /\n",
    "            2.0-ypc_opt, s=15, marker='o', c='r')\n",
    "plt.title('Optimized Simulated Pattern')\n",
    "plt.axis('off')\n",
    "plt.show()"
   ]
  },
  {
   "cell_type": "code",
   "execution_count": 11,
   "metadata": {},
   "outputs": [
    {
     "name": "stdout",
     "output_type": "stream",
     "text": [
      "Before Optimization: q1=[ 0.068 -0.323  0.317  0.889]\n",
      "After Optimization: q2=[ 0.063 -0.324  0.314  0.89 ]\n",
      "Disorientation between q1 and q2 = 0.694 around axis [ 0.96  -0.185 -0.208]\n"
     ]
    }
   ],
   "source": [
    "dict=pyEMsoft.typedefs.dicttype()\n",
    "# indicate rotational point group\n",
    "dict.pgnum=32\n",
    "pyEMsoft.Dictmod.di_init(dict,'sym')\n",
    "eu1=pyEMsoft.rotations.qu2eu(quaternion)\n",
    "eu2=pyEMsoft.rotations.qu2eu(Angles_Opt)\n",
    "\n",
    "ax=np.asarray(np.zeros(3), dtype=np.float64, order='F')\n",
    "disang=pyEMsoft.Dictmod.getdisorientationangle(eu1,eu2,dict,ax)\n",
    "\n",
    "print('Before Optimization: q1='+str(quaternion.round(3)))\n",
    "print('After Optimization: q2='+str(Angles_Opt.round(3)))\n",
    "print('Disorientation between q1 and q2 = '+str(round(np.rad2deg(disang),3))+' around axis '+str(ax.round(3)))"
   ]
  },
  {
   "cell_type": "code",
   "execution_count": 12,
   "metadata": {},
   "outputs": [
    {
     "name": "stdout",
     "output_type": "stream",
     "text": [
      "Before Optimization: MSE=13102.759621280677; SSIM=8.625188482567611e-08\n",
      "After Optimization: MSE=13102.709490328836; SSIM=1.136715067003843e-07\n"
     ]
    }
   ],
   "source": [
    "from skimage.metrics import structural_similarity as ssim\n",
    "from skimage.metrics import mean_squared_error\n",
    "mse_noise = mean_squared_error(ExperimentalPattern, SimulatedPattern)\n",
    "ssim_noise = ssim(ExperimentalPattern, SimulatedPattern,\n",
    "                  data_range=SimulatedPattern.max() - SimulatedPattern.min())\n",
    "\n",
    "print('Before Optimization: MSE='+str(mse_noise)+'; SSIM='+str(ssim_noise))\n",
    "\n",
    "mse_noise = mean_squared_error(ExperimentalPattern, SimulatedPattern_Opt)\n",
    "ssim_noise = ssim(ExperimentalPattern, SimulatedPattern_Opt,\n",
    "                  data_range=SimulatedPattern_Opt.max() - SimulatedPattern_Opt.min())\n",
    "\n",
    "print('After Optimization: MSE='+str(mse_noise)+'; SSIM='+str(ssim_noise))"
   ]
  },
  {
   "cell_type": "code",
   "execution_count": null,
   "metadata": {},
   "outputs": [],
   "source": []
  }
 ],
 "metadata": {
  "kernelspec": {
   "display_name": "Python 3",
   "language": "python",
   "name": "python3"
  },
  "language_info": {
   "codemirror_mode": {
    "name": "ipython",
    "version": 3
   },
   "file_extension": ".py",
   "mimetype": "text/x-python",
   "name": "python",
   "nbconvert_exporter": "python",
   "pygments_lexer": "ipython3",
   "version": "3.8.5-final"
  }
 },
 "nbformat": 4,
 "nbformat_minor": 2
}